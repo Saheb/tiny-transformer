{
 "cells": [
  {
   "cell_type": "code",
   "execution_count": 2,
   "id": "d7150911",
   "metadata": {},
   "outputs": [],
   "source": [
    "import numpy as np"
   ]
  },
  {
   "cell_type": "code",
   "execution_count": 10,
   "id": "dfd31864",
   "metadata": {},
   "outputs": [
    {
     "data": {
      "text/plain": [
       "[array([1., 1.]),\n",
       " array([1., 1.]),\n",
       " array([1., 1.]),\n",
       " array([1., 1.]),\n",
       " array([1., 1.])]"
      ]
     },
     "execution_count": 10,
     "metadata": {},
     "output_type": "execute_result"
    }
   ],
   "source": [
    "x = np.ones(10)\n",
    "np.split(x, 5)"
   ]
  },
  {
   "cell_type": "code",
   "execution_count": 37,
   "id": "b9b1a631",
   "metadata": {},
   "outputs": [
    {
     "name": "stdout",
     "output_type": "stream",
     "text": [
      "[[ 0.  1.  2.  3.]\n",
      " [ 4.  5.  6.  7.]\n",
      " [ 8.  9. 10. 11.]\n",
      " [12. 13. 14. 15.]]\n"
     ]
    },
    {
     "data": {
      "text/plain": [
       "[array([[ 0.,  1.],\n",
       "        [ 4.,  5.],\n",
       "        [ 8.,  9.],\n",
       "        [12., 13.]]),\n",
       " array([[ 2.],\n",
       "        [ 6.],\n",
       "        [10.],\n",
       "        [14.]]),\n",
       " array([[ 3.],\n",
       "        [ 7.],\n",
       "        [11.],\n",
       "        [15.]])]"
      ]
     },
     "execution_count": 37,
     "metadata": {},
     "output_type": "execute_result"
    }
   ],
   "source": [
    "y = np.arange(16.0).reshape(4, 4)\n",
    "print(y)\n",
    "np.hsplit(y, [2,3])"
   ]
  },
  {
   "cell_type": "code",
   "execution_count": null,
   "id": "d0201611",
   "metadata": {},
   "outputs": [
    {
     "name": "stdout",
     "output_type": "stream",
     "text": [
      "[array([[[ 0,  1,  2,  3],\n",
      "        [ 4,  5,  6,  7]],\n",
      "\n",
      "       [[16, 17, 18, 19],\n",
      "        [20, 21, 22, 23]],\n",
      "\n",
      "       [[32, 33, 34, 35],\n",
      "        [36, 37, 38, 39]],\n",
      "\n",
      "       [[48, 49, 50, 51],\n",
      "        [52, 53, 54, 55]]]), array([[[ 8,  9, 10, 11],\n",
      "        [12, 13, 14, 15]],\n",
      "\n",
      "       [[24, 25, 26, 27],\n",
      "        [28, 29, 30, 31]],\n",
      "\n",
      "       [[40, 41, 42, 43],\n",
      "        [44, 45, 46, 47]],\n",
      "\n",
      "       [[56, 57, 58, 59],\n",
      "        [60, 61, 62, 63]]])]\n"
     ]
    },
    {
     "data": {
      "text/plain": [
       "(2, 4, 2, 4)"
      ]
     },
     "execution_count": 59,
     "metadata": {},
     "output_type": "execute_result"
    }
   ],
   "source": [
    "z = np.arange(64).reshape(4,4,4)\n",
    "# print(z)\n",
    "out = np.split(z, 2, axis=1)\n",
    "print(out)\n",
    "np.shape(out)"
   ]
  },
  {
   "cell_type": "code",
   "execution_count": 81,
   "id": "e5548018",
   "metadata": {},
   "outputs": [
    {
     "name": "stdout",
     "output_type": "stream",
     "text": [
      "Split shapes: [(16, 32, 8), (16, 32, 8), (16, 32, 8), (16, 32, 8), (16, 32, 8), (16, 32, 8), (16, 32, 8), (16, 32, 8)]\n"
     ]
    },
    {
     "data": {
      "text/plain": [
       "(16, 32, 8, 8)"
      ]
     },
     "execution_count": 81,
     "metadata": {},
     "output_type": "execute_result"
    }
   ],
   "source": [
    "n_heads = 8\n",
    "z = np.arange(16*32*64).reshape(16, 32, 64)\n",
    "z\n",
    "out = np.split(z, n_heads, axis=2)\n",
    "print(\"Split shapes:\", [x.shape for x in out])\n",
    "np.shape(out)\n",
    "stacked_out = np.stack(out, axis=2)\n",
    "np.shape(stacked_out)"
   ]
  }
 ],
 "metadata": {
  "kernelspec": {
   "display_name": "tiny-transformer (3.13.7)",
   "language": "python",
   "name": "python3"
  },
  "language_info": {
   "codemirror_mode": {
    "name": "ipython",
    "version": 3
   },
   "file_extension": ".py",
   "mimetype": "text/x-python",
   "name": "python",
   "nbconvert_exporter": "python",
   "pygments_lexer": "ipython3",
   "version": "3.13.7"
  }
 },
 "nbformat": 4,
 "nbformat_minor": 5
}
